{
 "cells": [
  {
   "cell_type": "code",
   "execution_count": 1,
   "id": "bf7ddc66-5630-4336-a9eb-070979302113",
   "metadata": {},
   "outputs": [
    {
     "data": {
      "application/vnd.jupyter.widget-view+json": {
       "model_id": "e6e59fba031f4c1581d8445c9fa96f9a",
       "version_major": 2,
       "version_minor": 0
      },
      "text/plain": [
       "config.json: 0.00B [00:00, ?B/s]"
      ]
     },
     "metadata": {},
     "output_type": "display_data"
    },
    {
     "name": "stderr",
     "output_type": "stream",
     "text": [
      "C:\\Users\\shari\\AppData\\Local\\Programs\\Python\\Python310\\lib\\site-packages\\huggingface_hub\\file_download.py:143: UserWarning: `huggingface_hub` cache-system uses symlinks by default to efficiently store duplicated files but your machine does not support them in C:\\Users\\shari\\.cache\\huggingface\\hub\\models--facebook--bart-large-mnli. Caching files will still work but in a degraded version that might require more space on your disk. This warning can be disabled by setting the `HF_HUB_DISABLE_SYMLINKS_WARNING` environment variable. For more details, see https://huggingface.co/docs/huggingface_hub/how-to-cache#limitations.\n",
      "To support symlinks on Windows, you either need to activate Developer Mode or to run Python as an administrator. In order to activate developer mode, see this article: https://docs.microsoft.com/en-us/windows/apps/get-started/enable-your-device-for-development\n",
      "  warnings.warn(message)\n",
      "Xet Storage is enabled for this repo, but the 'hf_xet' package is not installed. Falling back to regular HTTP download. For better performance, install the package with: `pip install huggingface_hub[hf_xet]` or `pip install hf_xet`\n"
     ]
    },
    {
     "data": {
      "application/vnd.jupyter.widget-view+json": {
       "model_id": "f736903506a543b3acac8a0e118bd88c",
       "version_major": 2,
       "version_minor": 0
      },
      "text/plain": [
       "model.safetensors:   0%|          | 0.00/1.63G [00:00<?, ?B/s]"
      ]
     },
     "metadata": {},
     "output_type": "display_data"
    },
    {
     "data": {
      "application/vnd.jupyter.widget-view+json": {
       "model_id": "07b605694fa6497d8dbe839d6ccc0d96",
       "version_major": 2,
       "version_minor": 0
      },
      "text/plain": [
       "tokenizer_config.json:   0%|          | 0.00/26.0 [00:00<?, ?B/s]"
      ]
     },
     "metadata": {},
     "output_type": "display_data"
    },
    {
     "data": {
      "application/vnd.jupyter.widget-view+json": {
       "model_id": "fa1b5cfb35e74852abcfb929073bd3f9",
       "version_major": 2,
       "version_minor": 0
      },
      "text/plain": [
       "vocab.json: 0.00B [00:00, ?B/s]"
      ]
     },
     "metadata": {},
     "output_type": "display_data"
    },
    {
     "data": {
      "application/vnd.jupyter.widget-view+json": {
       "model_id": "5cca5feda8b1497b818a9582ccdb80f4",
       "version_major": 2,
       "version_minor": 0
      },
      "text/plain": [
       "merges.txt: 0.00B [00:00, ?B/s]"
      ]
     },
     "metadata": {},
     "output_type": "display_data"
    },
    {
     "data": {
      "application/vnd.jupyter.widget-view+json": {
       "model_id": "52c94e78e2314d81998937180bfffde5",
       "version_major": 2,
       "version_minor": 0
      },
      "text/plain": [
       "tokenizer.json: 0.00B [00:00, ?B/s]"
      ]
     },
     "metadata": {},
     "output_type": "display_data"
    },
    {
     "name": "stderr",
     "output_type": "stream",
     "text": [
      "Device set to use cpu\n"
     ]
    },
    {
     "name": "stdout",
     "output_type": "stream",
     "text": [
      "\n",
      "Ticket: My internet connection is not working since last night.\n",
      "  Predicted Label: Technical Issue, Confidence: 0.96\n",
      "  Predicted Label: Payment Issue, Confidence: 0.23\n",
      "  Predicted Label: Billing, Confidence: 0.21\n",
      "\n",
      "Ticket: I want to upgrade my billing plan for better benefits.\n",
      "  Predicted Label: Billing, Confidence: 0.90\n",
      "  Predicted Label: Payment Issue, Confidence: 0.84\n",
      "  Predicted Label: Account Management, Confidence: 0.60\n",
      "\n",
      "Ticket: My payment failed but the money was deducted from my account.\n",
      "  Predicted Label: Payment Issue, Confidence: 0.99\n",
      "  Predicted Label: Account Management, Confidence: 0.91\n",
      "  Predicted Label: Billing, Confidence: 0.67\n",
      "\n",
      "Ticket: The app keeps crashing after the latest update.\n",
      "  Predicted Label: App Bug, Confidence: 0.91\n",
      "  Predicted Label: Technical Issue, Confidence: 0.91\n",
      "  Predicted Label: Billing, Confidence: 0.38\n"
     ]
    }
   ],
   "source": [
    "# task5_auto_tagging_llm.py\n",
    "\n",
    "from transformers import pipeline\n",
    "\n",
    "# Step 1: Use a zero-shot classification pipeline\n",
    "classifier = pipeline(\"zero-shot-classification\", model=\"facebook/bart-large-mnli\")\n",
    "\n",
    "# Step 2: Example support tickets\n",
    "tickets = [\n",
    "    \"My internet connection is not working since last night.\",\n",
    "    \"I want to upgrade my billing plan for better benefits.\",\n",
    "    \"My payment failed but the money was deducted from my account.\",\n",
    "    \"The app keeps crashing after the latest update.\"\n",
    "]\n",
    "\n",
    "# Step 3: Define candidate labels\n",
    "labels = [\"Technical Issue\", \"Billing\", \"Account Management\", \"App Bug\", \"Payment Issue\"]\n",
    "\n",
    "# Step 4: Classify and show top 3 labels for each\n",
    "for ticket in tickets:\n",
    "    result = classifier(ticket, candidate_labels=labels, multi_label=True)\n",
    "    print(f\"\\nTicket: {ticket}\")\n",
    "    top3 = list(zip(result['labels'], result['scores']))[:3]\n",
    "    for label, score in top3:\n",
    "        print(f\"  Predicted Label: {label}, Confidence: {score:.2f}\")\n"
   ]
  },
  {
   "cell_type": "code",
   "execution_count": null,
   "id": "5c1896e7-94a3-4494-9242-1492084d5023",
   "metadata": {},
   "outputs": [],
   "source": []
  }
 ],
 "metadata": {
  "kernelspec": {
   "display_name": "Python 3 (ipykernel)",
   "language": "python",
   "name": "python3"
  },
  "language_info": {
   "codemirror_mode": {
    "name": "ipython",
    "version": 3
   },
   "file_extension": ".py",
   "mimetype": "text/x-python",
   "name": "python",
   "nbconvert_exporter": "python",
   "pygments_lexer": "ipython3",
   "version": "3.10.11"
  }
 },
 "nbformat": 4,
 "nbformat_minor": 5
}
